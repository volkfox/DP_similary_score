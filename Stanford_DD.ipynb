{
  "nbformat": 4,
  "nbformat_minor": 0,
  "metadata": {
    "accelerator": "GPU",
    "colab": {
      "name": "Stanford DD.ipynb",
      "provenance": [],
      "collapsed_sections": [],
      "toc_visible": true,
      "include_colab_link": true
    },
    "kernelspec": {
      "display_name": "Python 3",
      "language": "python",
      "name": "python3"
    },
    "language_info": {
      "codemirror_mode": {
        "name": "ipython",
        "version": 3
      },
      "file_extension": ".py",
      "mimetype": "text/x-python",
      "name": "python",
      "nbconvert_exporter": "python",
      "pygments_lexer": "ipython3",
      "version": "3.5.0"
    }
  },
  "cells": [
    {
      "cell_type": "markdown",
      "metadata": {
        "id": "view-in-github",
        "colab_type": "text"
      },
      "source": [
        "<a href=\"https://colab.research.google.com/github/volkfox/DP_similary_score/blob/main/Stanford_DD.ipynb\" target=\"_parent\"><img src=\"https://colab.research.google.com/assets/colab-badge.svg\" alt=\"Open In Colab\"/></a>"
      ]
    },
    {
      "cell_type": "markdown",
      "metadata": {
        "button": false,
        "deletable": true,
        "id": "rHn_26BHO5C5",
        "new_sheet": false,
        "run_control": {
          "read_only": false
        }
      },
      "source": [
        "\n",
        "\n",
        "###### This Collab is a small similarity encoder demo. It can run on GC, Azure, AWS or Oracle Cloud.\n",
        "For it to work, runtime has to be supported by GPU or TPU (check GPU luck below. If not seen, check Runtime -> Change runtime type menu.\n"
      ]
    },
    {
      "cell_type": "code",
      "metadata": {
        "button": false,
        "deletable": true,
        "id": "I6o7cfFrJqOn",
        "new_sheet": false,
        "run_control": {
          "read_only": false
        }
      },
      "source": [
        "\n",
        "# use this on Collab to add files if needed \n",
        "from google.colab import files\n",
        "files.upload()"
      ],
      "execution_count": null,
      "outputs": []
    },
    {
      "cell_type": "code",
      "metadata": {
        "button": false,
        "deletable": true,
        "id": "iyVYZnZW7JVo",
        "new_sheet": false,
        "run_control": {
          "read_only": false
        },
        "outputId": "24720c51-2aa2-4189-dfbc-88f8660cbaa0",
        "colab": {
          "base_uri": "https://localhost:8080/"
        }
      },
      "source": [
        "# check your GPU luck\n",
        "#import os\n",
        "#os.environ[\"TF_XLA_FLAGS\"]=\"--tf_xla_cpu_global_jit=/home/volkot/.local/lib/python3.6/site-packages/tensorflow/compiler/xla:$TF_XLA_FLAGS=--tf_xla_cpu_global_jit\"\n",
        "!echo $TF_XLA_FLAGS\n",
        "!nvidia-smi\n",
        "#\n"
      ],
      "execution_count": 3,
      "outputs": [
        {
          "output_type": "stream",
          "text": [
            "\n",
            "Tue Nov 10 22:36:55 2020       \n",
            "+-----------------------------------------------------------------------------+\n",
            "| NVIDIA-SMI 455.32.00    Driver Version: 418.67       CUDA Version: 10.1     |\n",
            "|-------------------------------+----------------------+----------------------+\n",
            "| GPU  Name        Persistence-M| Bus-Id        Disp.A | Volatile Uncorr. ECC |\n",
            "| Fan  Temp  Perf  Pwr:Usage/Cap|         Memory-Usage | GPU-Util  Compute M. |\n",
            "|                               |                      |               MIG M. |\n",
            "|===============================+======================+======================|\n",
            "|   0  Tesla T4            Off  | 00000000:00:04.0 Off |                    0 |\n",
            "| N/A   35C    P8     9W /  70W |      0MiB / 15079MiB |      0%      Default |\n",
            "|                               |                      |                 ERR! |\n",
            "+-------------------------------+----------------------+----------------------+\n",
            "                                                                               \n",
            "+-----------------------------------------------------------------------------+\n",
            "| Processes:                                                                  |\n",
            "|  GPU   GI   CI        PID   Type   Process name                  GPU Memory |\n",
            "|        ID   ID                                                   Usage      |\n",
            "|=============================================================================|\n",
            "|  No running processes found                                                 |\n",
            "+-----------------------------------------------------------------------------+\n"
          ],
          "name": "stdout"
        }
      ]
    },
    {
      "cell_type": "code",
      "metadata": {
        "button": false,
        "deletable": true,
        "new_sheet": false,
        "run_control": {
          "read_only": false
        },
        "id": "tZjkO61zoOAO"
      },
      "source": [
        "# @kernel-restart\n",
        "# if there is no tensorflow\n",
        "\n",
        "#!pip uninstall -y tensorflow\n",
        "#!pip install tensorflow\n"
      ],
      "execution_count": 2,
      "outputs": []
    },
    {
      "cell_type": "code",
      "metadata": {
        "id": "8k7QnNyjqiXD",
        "outputId": "3e7e4204-d110-459b-9779-f51ee8242fe6",
        "colab": {
          "base_uri": "https://localhost:8080/"
        }
      },
      "source": [
        "# v4 is the latest Encoder version as of 10/2020\n",
        "import tensorflow as tf\n",
        "import tensorflow_hub as hub\n",
        "import numpy as np\n",
        "\n",
        "embed = hub.load(\"https://tfhub.dev/google/universal-sentence-encoder/4\")\n"
      ],
      "execution_count": 1,
      "outputs": [
        {
          "output_type": "stream",
          "text": [
            "[0.01492003]\n"
          ],
          "name": "stdout"
        }
      ]
    },
    {
      "cell_type": "code",
      "metadata": {
        "id": "FaW8wftOwXG8",
        "outputId": "d6b2029f-e254-4648-f4cb-a23faa426fe8",
        "colab": {
          "base_uri": "https://localhost:8080/"
        }
      },
      "source": [
        "# this is the main code pattern\n",
        "\n",
        "test_embeddings = embed([\n",
        "    \"The quick brown fox jumps over the lazy dog.\",\n",
        "    \"I am a sentence for which I would like to compute embedding\"])\n",
        "\n",
        "corr = np.inner(test_embeddings, test_embeddings)\n",
        "test_similarity = corr[0,1:]\n",
        "print(f\"Similarity score: {test_similarity}\")\n"
      ],
      "execution_count": 4,
      "outputs": [
        {
          "output_type": "stream",
          "text": [
            "Similarity score: [0.00599098]\n"
          ],
          "name": "stdout"
        }
      ]
    },
    {
      "cell_type": "code",
      "metadata": {
        "id": "KO-tif8BwZJx",
        "outputId": "7e71e09f-56ac-4513-962a-b18875a687e3",
        "colab": {
          "base_uri": "https://localhost:8080/"
        }
      },
      "source": [
        "# Play with agendas\n",
        "\n",
        "agendas = [ \"Replace the Electoral College with a national popular vote. Replace the Electoral College with a national popular vote. In the Electoral College, the presidential candidate that receives a majority of electoral votes wins. The proposals are whether to keep this system or replace the Electoral College with a “national popular vote,” where the presidential candidate that receives the most votes wins.\",\n",
        "            \"Replace the winner take all with proportional allocation. This proposal is in place of winner take all, have proportional allocation. Most states use winner take all, where the presidential candidate that gets the most votes in a state wins all of that state’s electoral votes. The proposal here is whether to keep winner-take all or replace it with proportional allocation, where a state gives electoral votes to each presidential candidate proportionally, based on the share of the vote they win in that state\",\n",
        "            \"Allocate electoral votes to presidential candidates without electors. This proposal is allocate electoral votes to presidential candidates without electors. In the Electoral College, electors are officials who cast electoral votes on behalf of the state’s people. The proposals are whether to keep electors or allocate electoral votes to presidential candidates without electors.\",\n",
        "            \"Contact tracing is a labor-intensive, time-consuming practice that for decades has been a fundamental public health tool for containing infectious diseases. The proposal is: Organizations and corporations should work with the government to implement opt-in-only contact tracing platforms to monitor and mitigate the spread of COVID-19.\",\n",
        "            \"Quick brown fox jumped over a lazy dog\" ]\n",
        "\n",
        "# Playground messages led with a toy agenda \n",
        "# also note the common transcription errors (e.g. voting -> boating) and how they affect the score\n",
        "\n",
        "messages = [\n",
        "    agendas[0],\n",
        "    \"Personally, I would I am for replacing the Electoral College with a national popular vote. Although it has cons such as the people only campaigning in populous areas and cities I think that overall it is more aligned with the values of our democracy and I think that as the you know majority the majority the majority of people who vote for a candidate such.\"\n",
        "    \"Yeah, I agree with what you were saying. I also think that some of the critiques of the replace it with the national boat. Don't necessarily make as much sense to me. I think that we still operate under this assumption that if you campaign in the city then every person in that City will then vote for you, which is actually falls apart with the electric with a popular versus that is what happens with the Electoral College in Philadelphia. There's a very diverse range of\",\n",
        "    \"Yeah, I think that two points that you guys brought up is really important. But personally I'm against replacing it with the national popular vote. And I think it's because the third point that it highlights here and that it bounces power between larger and smaller States and electing a president. That's kind of like the key fundamental issue like between I guess between a pro and a con stance that like a Statewide like Wyoming is going to have much less power than a state like, California but by doing so and having like. The number of Representatives like all having an equal share and over the people. I think that's really important and why you shouldn't replace the Electoral College with a national popular vote\",\n",
        "    \"I understand why that's like a concern as to why I like small states wouldn't get their things out there. But like my contention with that is is like I don't necessarily think that allowing like bigger States. Well not to make decisions for the smaller States. They would still be I think they would make decisions that would benefit both small and big States like I don't think rural country like rural areas are going to screw over City like urban areas.\",\n",
        "    \"I think pro and con aside the system isn't working. It's extremely evident that it's not working. So I don't really care what the arguments are either pro and con I agree with both of them but the system needs help people's votes are like you are like you said are getting oppressed and belittled and our government feels less and less like democracy and that's the system that our government Prides itself on\",\n",
        "    \"So sorry, I think that we should replace the Electoral College with a national popular vote because it just ensures like in some places where your political opinion is. Not the most popular there. You might not even see a purpose and voting like it seems pointless because you know, your vote won't count and I don't think that's the way\",\n",
        "    \"Yeah, I think what I'm sorry, I'm like speaking so much but I think like the two points that like Grace brought up is really important and that although I am against replacing it with a national popular vote there. Definitely needs to be some sort of Reform that has to go on so I would say I kind of fall more towards con but definitely not entirely just hard con because there still is reform that needs to be made\",\n",
        "    \"Yeah, so I also agree that we so why I do lean more towards Pro. I also think that you know, the Electoral College was established in a time in which it would have been virtually ineffective for everybody's votes to be counted. But to me now when we have the technology to know the popular vote, it seems you know counterintuitive to have that and also an electoral college and whether we fully replace the Electoral College\",\n",
        "    \"That's a really good point. I totally agree with that. And I also think that I lean more towards the pro side because I also agree that every vote should matter and everyone should feel like their vote does matter and right now I can definitely understand why people don't feel that way and I think that definitely affects the number of people who are voting and like different groups who are usually the ones voting as well. So I think there definitely needs to be reformed\",\n",
        "    \"I think that I came to bring up to like small points one. I can really don't think that like I understand the argument of in people and general areas and people in cities but have slightly different perspectives on what how they want the country to vote. But land doesn't vote people do like individuals are the ones who are voting just put matter. If a large number of people take up more space. It's more the individuals like if there's more people in area, it makes sense that they'd have more of a say because there's more people\",\n",
        "    \"They're more lives are being impacted. And I also think the Electoral College seems to uphold the two-party system it prevents. There's from being a large diversity of opinion because the third-party candidate won't win in the way that we have it set up. I'm have no time, but\",\n",
        "    \"Yeah, so I agree. I think it's flawed heavily. But I also think that changing it would cause a lot of issues in the sense that not only that it would have a lot of issues with voting because usually you can vote advance and everything is she said earlier, but also the fact that when you see the election now, you see like the division and like anger and stuff like that. If you do it a second time, it's going to be really really bad.\",\n",
        "    \"Yeah, it's flawed and I but I do agree with summer and Christy and that like it's just gonna be like inconvenient for people to just like vote again, you know, just know. \",\n",
        "    \n",
        "    \"So I'll kick us off as I understand it contact tracing need you need to have it adopted at a certain scale or Benchmark in order to make it effective and to suppress the spread of covid and so having organizations and corporations implement. It is a good place to start because they've got a built-in audience and can help scale this thing in certain regions of the country. So I am in favor of\",\n",
        "    \"I agree. There should be some sort of role for these organizations to play be given what a large-scale it is one big problem. It is. I don't know if this is within the scope of this conversation, but I think that we also need widespread and fast enough testing to make it effective. My sister's actually working as a contact Tracer in New York right now and a big problem that she's having is that people aren't getting their tests back for a couple weeks. \",\n",
        "    \"But as I understand it a lot of the apps anyway would use Bluetooth. And so that might mean that the data is not stored or shared with the government. I think we can all question whether or not that is the case and that is the biggest question I have how is the data stored in used but I think there's ways to minimize its storage and also maybe there's a way to say after 14 days or whenever the exposure period\",\n",
        "    \n",
        "    \"I got a pop-up asking me to confirm whether or not Christian was on topic off-topic before she gets banned. So that's a feature.\",\n",
        "    ]\n",
        "\n",
        "embeddings = embed(messages)\n",
        "corr = np.inner(embeddings, embeddings)\n",
        "similarity = corr[0,1:]\n",
        "print(f\"Similarity scores between the 1st message in array (agenda) and the rest: \\n {similarity}\")\n",
        "print(\"\")\n",
        "print(f\"Mean similarity score between agenda and the 1st message group: {np.mean(similarity[0:12])}\")\n",
        "print(f\"Mean similarity score between agenda and the 2nd message group: {np.mean(similarity[13:17])}\")"
      ],
      "execution_count": 13,
      "outputs": [
        {
          "output_type": "stream",
          "text": [
            "Similarity scores between the 1st message in array (agenda) and the rest: \n",
            " [0.6924665  0.6871017  0.3618598  0.36336115 0.67607915 0.2929443\n",
            " 0.76218057 0.31840146 0.33125103 0.55954665 0.27429718 0.16134058\n",
            " 0.18692291 0.16415556 0.03218867 0.00750034]\n",
            "\n",
            "Mean similarity score between agenda and the 1st message group: 0.45673584938049316\n",
            "Mean similarity score between agenda and the 2nd message group: 0.06794818490743637\n"
          ],
          "name": "stdout"
        }
      ]
    }
  ]
}